{
 "cells": [
  {
   "cell_type": "code",
   "execution_count": 37,
   "metadata": {
    "collapsed": false
   },
   "outputs": [
    {
     "name": "stdout",
     "output_type": "stream",
     "text": [
      "This is loaded\n"
     ]
    }
   ],
   "source": [
    "import pandas as pd\n",
    "import numpy as np\n",
    "\n",
    "pd.options.mode.chained_assignment = None  # default='warn'\n",
    "\n",
    "print('This is loaded')"
   ]
  },
  {
   "cell_type": "code",
   "execution_count": 38,
   "metadata": {
    "collapsed": false
   },
   "outputs": [
    {
     "name": "stdout",
     "output_type": "stream",
     "text": [
      "1 loaded\n"
     ]
    }
   ],
   "source": [
    "base = pd.read_csv('rc15csv/pai2015before.csv', thousands=\",\", index_col='schid')\n",
    "print('1 loaded')"
   ]
  },
  {
   "cell_type": "code",
   "execution_count": 39,
   "metadata": {
    "collapsed": false
   },
   "outputs": [
    {
     "data": {
      "text/html": [
       "<div style=\"max-height:1000px;max-width:1500px;overflow:auto;\">\n",
       "<table border=\"1\" class=\"dataframe\">\n",
       "  <thead>\n",
       "    <tr style=\"text-align: right;\">\n",
       "      <th></th>\n",
       "      <th>schid14</th>\n",
       "      <th>schid15</th>\n",
       "      <th>value</th>\n",
       "      <th>facilityname</th>\n",
       "      <th>selective</th>\n",
       "      <th>districtname</th>\n",
       "      <th>distid</th>\n",
       "      <th>distidalt</th>\n",
       "      <th>county</th>\n",
       "      <th>districttype</th>\n",
       "      <th>...</th>\n",
       "      <th>me2015distAPP</th>\n",
       "      <th>me2015distMET</th>\n",
       "      <th>me2015distEXC</th>\n",
       "      <th>me2015stateDNY</th>\n",
       "      <th>me2015statePART</th>\n",
       "      <th>me2015stateAPP</th>\n",
       "      <th>me2015stateMET</th>\n",
       "      <th>me2015stateEXC</th>\n",
       "      <th>me2015schoolELEM</th>\n",
       "      <th>me2015schoolHS</th>\n",
       "    </tr>\n",
       "    <tr>\n",
       "      <th>schid</th>\n",
       "      <th></th>\n",
       "      <th></th>\n",
       "      <th></th>\n",
       "      <th></th>\n",
       "      <th></th>\n",
       "      <th></th>\n",
       "      <th></th>\n",
       "      <th></th>\n",
       "      <th></th>\n",
       "      <th></th>\n",
       "      <th></th>\n",
       "      <th></th>\n",
       "      <th></th>\n",
       "      <th></th>\n",
       "      <th></th>\n",
       "      <th></th>\n",
       "      <th></th>\n",
       "      <th></th>\n",
       "      <th></th>\n",
       "      <th></th>\n",
       "      <th></th>\n",
       "    </tr>\n",
       "  </thead>\n",
       "  <tbody>\n",
       "    <tr>\n",
       "      <th>010010010260001</th>\n",
       "      <td>010010010260001</td>\n",
       "      <td>010010010260001</td>\n",
       "      <td>Seymour High School, Payson</td>\n",
       "      <td>Seymour High School</td>\n",
       "      <td>--</td>\n",
       "      <td>Payson CUSD 1</td>\n",
       "      <td>010010010260000</td>\n",
       "      <td>010010010260000</td>\n",
       "      <td>Adams</td>\n",
       "      <td>UNIT</td>\n",
       "      <td>...</td>\n",
       "      <td>30.2</td>\n",
       "      <td>30.2</td>\n",
       "      <td>2.9</td>\n",
       "      <td>14.4</td>\n",
       "      <td>24.2</td>\n",
       "      <td>28.4</td>\n",
       "      <td>28.6</td>\n",
       "      <td>4.4</td>\n",
       "      <td>NaN</td>\n",
       "      <td>25.6</td>\n",
       "    </tr>\n",
       "    <tr>\n",
       "      <th>010010010262002</th>\n",
       "      <td>010010010262002</td>\n",
       "      <td>010010010262002</td>\n",
       "      <td>Seymour Elementary School, Payson</td>\n",
       "      <td>Seymour Elementary School</td>\n",
       "      <td>--</td>\n",
       "      <td>Payson CUSD 1</td>\n",
       "      <td>010010010260000</td>\n",
       "      <td>010010010260000</td>\n",
       "      <td>Adams</td>\n",
       "      <td>UNIT</td>\n",
       "      <td>...</td>\n",
       "      <td>30.2</td>\n",
       "      <td>30.2</td>\n",
       "      <td>2.9</td>\n",
       "      <td>14.4</td>\n",
       "      <td>24.2</td>\n",
       "      <td>28.4</td>\n",
       "      <td>28.6</td>\n",
       "      <td>4.4</td>\n",
       "      <td>36.1</td>\n",
       "      <td>NaN</td>\n",
       "    </tr>\n",
       "    <tr>\n",
       "      <th>010010020260001</th>\n",
       "      <td>010010020260001</td>\n",
       "      <td>010010020260001</td>\n",
       "      <td>Liberty High School, Liberty</td>\n",
       "      <td>Liberty High School</td>\n",
       "      <td>--</td>\n",
       "      <td>Liberty CUSD 2</td>\n",
       "      <td>010010020260000</td>\n",
       "      <td>010010020260000</td>\n",
       "      <td>Adams</td>\n",
       "      <td>UNIT</td>\n",
       "      <td>...</td>\n",
       "      <td>37.6</td>\n",
       "      <td>28.6</td>\n",
       "      <td>2.9</td>\n",
       "      <td>14.4</td>\n",
       "      <td>24.2</td>\n",
       "      <td>28.4</td>\n",
       "      <td>28.6</td>\n",
       "      <td>4.4</td>\n",
       "      <td>NaN</td>\n",
       "      <td>30.9</td>\n",
       "    </tr>\n",
       "  </tbody>\n",
       "</table>\n",
       "<p>3 rows × 241 columns</p>\n",
       "</div>"
      ],
      "text/plain": [
       "                         schid14          schid15  \\\n",
       "schid                                               \n",
       "010010010260001  010010010260001  010010010260001   \n",
       "010010010262002  010010010262002  010010010262002   \n",
       "010010020260001  010010020260001  010010020260001   \n",
       "\n",
       "                                             value               facilityname  \\\n",
       "schid                                                                           \n",
       "010010010260001        Seymour High School, Payson        Seymour High School   \n",
       "010010010262002  Seymour Elementary School, Payson  Seymour Elementary School   \n",
       "010010020260001       Liberty High School, Liberty        Liberty High School   \n",
       "\n",
       "                selective    districtname           distid        distidalt  \\\n",
       "schid                                                                         \n",
       "010010010260001        --   Payson CUSD 1  010010010260000  010010010260000   \n",
       "010010010262002        --   Payson CUSD 1  010010010260000  010010010260000   \n",
       "010010020260001        --  Liberty CUSD 2  010010020260000  010010020260000   \n",
       "\n",
       "                county districttype       ...       me2015distAPP  \\\n",
       "schid                                     ...                       \n",
       "010010010260001  Adams         UNIT       ...                30.2   \n",
       "010010010262002  Adams         UNIT       ...                30.2   \n",
       "010010020260001  Adams         UNIT       ...                37.6   \n",
       "\n",
       "                me2015distMET me2015distEXC me2015stateDNY me2015statePART  \\\n",
       "schid                                                                        \n",
       "010010010260001          30.2           2.9           14.4            24.2   \n",
       "010010010262002          30.2           2.9           14.4            24.2   \n",
       "010010020260001          28.6           2.9           14.4            24.2   \n",
       "\n",
       "                me2015stateAPP me2015stateMET me2015stateEXC  \\\n",
       "schid                                                          \n",
       "010010010260001           28.4           28.6            4.4   \n",
       "010010010262002           28.4           28.6            4.4   \n",
       "010010020260001           28.4           28.6            4.4   \n",
       "\n",
       "                 me2015schoolELEM  me2015schoolHS  \n",
       "schid                                              \n",
       "010010010260001               NaN            25.6  \n",
       "010010010262002              36.1             NaN  \n",
       "010010020260001               NaN            30.9  \n",
       "\n",
       "[3 rows x 241 columns]"
      ]
     },
     "execution_count": 39,
     "metadata": {},
     "output_type": "execute_result"
    }
   ],
   "source": [
    "base.head(3)"
   ]
  },
  {
   "cell_type": "code",
   "execution_count": 40,
   "metadata": {
    "collapsed": false
   },
   "outputs": [],
   "source": [
    "base['zelemscore2015me'] = 500.0\n",
    "base['avgelem2015me'] = ''\n",
    "base['stdvelem2015me'] = ''\n",
    "base['zelemscore2015meapp'] = 500.0\n",
    "base['avgelem2015meapp'] = ''\n",
    "base['stdvelem2015meapp'] = ''\n",
    "base['avgELEMz'] = 500.0\n",
    "base['zhsscore2015me'] = 500.0\n",
    "base['avghs2015me'] = ''\n",
    "base['stdvhs2015me'] = ''\n",
    "base['zhsscore2015meapp'] = 500.0\n",
    "base['avghs2015meapp'] = ''\n",
    "base['stdvhs2015meapp'] = ''\n",
    "base['avgHSz'] = 500.0"
   ]
  },
  {
   "cell_type": "code",
   "execution_count": 41,
   "metadata": {
    "collapsed": false,
    "scrolled": false
   },
   "outputs": [
    {
     "data": {
      "text/plain": [
       "(4094, 255)"
      ]
     },
     "execution_count": 41,
     "metadata": {},
     "output_type": "execute_result"
    }
   ],
   "source": [
    "base.shape"
   ]
  },
  {
   "cell_type": "code",
   "execution_count": 42,
   "metadata": {
    "collapsed": true
   },
   "outputs": [],
   "source": [
    "elemval = ['CHARTER NET','CHARTER NET+']\n",
    "elembase = base[~base.schooltype.isin(elemval)]"
   ]
  },
  {
   "cell_type": "code",
   "execution_count": 43,
   "metadata": {
    "collapsed": false
   },
   "outputs": [
    {
     "data": {
      "text/plain": [
       "(4084, 256)"
      ]
     },
     "execution_count": 43,
     "metadata": {},
     "output_type": "execute_result"
    }
   ],
   "source": [
    "elembase['MEappelem'] = elembase['me2015schoolELEM'] + elembase['me2015schAPP']\n",
    "elembase.shape"
   ]
  },
  {
   "cell_type": "code",
   "execution_count": 44,
   "metadata": {
    "collapsed": false
   },
   "outputs": [
    {
     "name": "stdout",
     "output_type": "stream",
     "text": [
      "Range ME | ME | Sample | StDev | Error | 95% Low | 95% High\n",
      "0 to 10  |  63.8  |  172  |  10.67  |  1.61  |  62.19  |  65.41\n",
      "Range ME+APP | ME+APP | Sample | StDev | Error | 95% Low | 95% High\n",
      "0 to 10  |  87.6  |  172  |  5.88  |  0.89  |  85.99  |  89.21\n",
      "Range ME | ME | Sample | StDev | Error | 95% Low | 95% High\n",
      "80 to 90  |  18.7  |  217  |  8.92  |  1.2  |  17.5  |  19.9\n",
      "Range ME+APP | ME+APP | Sample | StDev | Error | 95% Low | 95% High\n",
      "80 to 90  |  46.2  |  217  |  12.32  |  1.66  |  45.0  |  47.4\n",
      "Range ME | ME | Sample | StDev | Error | 95% Low | 95% High\n",
      "50 to 60  |  29.8  |  347  |  9.61  |  1.02  |  28.78  |  30.82\n",
      "Range ME+APP | ME+APP | Sample | StDev | Error | 95% Low | 95% High\n",
      "50 to 60  |  61.3  |  347  |  10.57  |  1.12  |  60.28  |  62.32\n",
      "Range ME | ME | Sample | StDev | Error | 95% Low | 95% High\n",
      "20 to 30  |  48.6  |  281  |  12.72  |  1.5  |  47.1  |  50.1\n",
      "Range ME+APP | ME+APP | Sample | StDev | Error | 95% Low | 95% High\n",
      "20 to 30  |  77.2  |  281  |  8.91  |  1.05  |  75.7  |  78.7\n",
      "Range ME | ME | Sample | StDev | Error | 95% Low | 95% High\n",
      "70 to 80  |  22.1  |  224  |  8.17  |  1.08  |  21.02  |  23.18\n",
      "Range ME+APP | ME+APP | Sample | StDev | Error | 95% Low | 95% High\n",
      "70 to 80  |  51.0  |  224  |  10.87  |  1.44  |  49.92  |  52.08\n",
      "Range ME | ME | Sample | StDev | Error | 95% Low | 95% High\n",
      "40 to 50  |  35.2  |  322  |  11.82  |  1.3  |  33.9  |  36.5\n",
      "Range ME+APP | ME+APP | Sample | StDev | Error | 95% Low | 95% High\n",
      "40 to 50  |  66.7  |  322  |  10.29  |  1.14  |  65.4  |  68.0\n",
      "Range ME | ME | Sample | StDev | Error | 95% Low | 95% High\n",
      "10 to 20  |  53.4  |  221  |  12.4  |  1.65  |  51.75  |  55.05\n",
      "Range ME+APP | ME+APP | Sample | StDev | Error | 95% Low | 95% High\n",
      "10 to 20  |  81.4  |  221  |  7.33  |  0.98  |  79.75  |  83.05\n",
      "Range ME | ME | Sample | StDev | Error | 95% Low | 95% High\n",
      "60 to 70  |  25.1  |  321  |  9.33  |  1.03  |  24.07  |  26.13\n",
      "Range ME+APP | ME+APP | Sample | StDev | Error | 95% Low | 95% High\n",
      "60 to 70  |  55.2  |  321  |  10.65  |  1.18  |  54.17  |  56.23\n",
      "Range ME | ME | Sample | StDev | Error | 95% Low | 95% High\n",
      "90 to 101  |  15.6  |  532  |  9.06  |  0.78  |  14.82  |  16.38\n",
      "Range ME+APP | ME+APP | Sample | StDev | Error | 95% Low | 95% High\n",
      "90 to 101  |  41.8  |  532  |  13.22  |  1.13  |  41.02  |  42.58\n",
      "Range ME | ME | Sample | StDev | Error | 95% Low | 95% High\n",
      "30 to 40  |  40.6  |  268  |  11.26  |  1.36  |  39.24  |  41.96\n",
      "Range ME+APP | ME+APP | Sample | StDev | Error | 95% Low | 95% High\n",
      "30 to 40  |  71.4  |  268  |  9.25  |  1.12  |  70.04  |  72.76\n",
      "done\n"
     ]
    }
   ],
   "source": [
    "#figure elem schools\n",
    "\n",
    "lowincrange = {0: 10, 10: 20, 20: 30, 30: 40, 40: 50, 50: 60, 60: 70, 70: 80, 80: 90, 90: 101}\n",
    "\n",
    "for key in lowincrange:\n",
    "    dfselect = elembase[ elembase[\"me2015schoolELEM\"].notnull() & ( elembase['lowinc2015'] >= key ) & ( elembase['lowinc2015'] < lowincrange[key] ) ]\n",
    "\n",
    "    meavg = round(dfselect[\"me2015schoolELEM\"].mean(),1)\n",
    "    mestd = round(dfselect[\"me2015schoolELEM\"].std(ddof=1),2)\n",
    "    dfselect.loc[:, 'avgelem2015me'] = meavg\n",
    "    dfselect.loc[:, 'stdvelem2015me'] = mestd    \n",
    "    dfselect.loc[:,'zelemscore2015me'] = ( ( dfselect['me2015schoolELEM'] - meavg) / mestd ).round(2)\n",
    "    ssize = len(dfselect)\n",
    "    sterror = round((mestd / np.sqrt(ssize)) * 1.98,2)\n",
    "    low95 = round(meavg - sterror,2)\n",
    "    high95 = round(meavg + sterror,2)\n",
    "\n",
    "    meAPPavg = round(dfselect[\"MEappelem\"].mean(),1)\n",
    "    meAPPstd = round(dfselect[\"MEappelem\"].std(ddof=1),2)\n",
    "    dfselect.loc[:, 'avgelem2015meapp'] = meavg\n",
    "    dfselect.loc[:, 'stdvelem2015meapp'] = mestd    \n",
    "    dfselect.loc[:,'zelemscore2015meapp'] = ( ( dfselect['MEappelem'] - meAPPavg) / meAPPstd ).round(2)\n",
    "    sterrorAPP = round((meAPPstd / np.sqrt(ssize)) * 1.98,2)\n",
    "    low95APP = round(meAPPavg - sterror,2)\n",
    "    high95APP = round(meAPPavg + sterror,2)\n",
    "\n",
    "    dfselect.loc[:,'avgELEMz'] = ( ( dfselect['zelemscore2015meapp'] + dfselect['zelemscore2015me'] ) /2).round(2)\n",
    "\n",
    "    print(\"Range ME | ME | Sample | StDev | Error | 95% Low | 95% High\")\n",
    "    print( key,\"to\",lowincrange[key],\" | \",meavg,\" | \",ssize,\" | \",mestd,\" | \",sterror,\" | \",low95,\" | \",high95 )\n",
    "    print(\"Range ME+APP | ME+APP | Sample | StDev | Error | 95% Low | 95% High\")\n",
    "    print( key,\"to\",lowincrange[key],\" | \",meAPPavg,\" | \",ssize,\" | \",meAPPstd,\" | \",sterrorAPP,\" | \",low95APP,\" | \",high95APP )\n",
    "\n",
    "    base.update(dfselect)\n",
    "    \n",
    "print('done')"
   ]
  },
  {
   "cell_type": "code",
   "execution_count": 45,
   "metadata": {
    "collapsed": false
   },
   "outputs": [
    {
     "data": {
      "text/plain": [
       "(4094, 255)"
      ]
     },
     "execution_count": 45,
     "metadata": {},
     "output_type": "execute_result"
    }
   ],
   "source": [
    "base.shape"
   ]
  },
  {
   "cell_type": "code",
   "execution_count": 46,
   "metadata": {
    "collapsed": false
   },
   "outputs": [
    {
     "data": {
      "text/plain": [
       "(4094, 256)"
      ]
     },
     "execution_count": 46,
     "metadata": {},
     "output_type": "execute_result"
    }
   ],
   "source": [
    "base['MEappHS'] = base['me2015schoolHS'] + base['me2015schAPP']\n",
    "base.shape"
   ]
  },
  {
   "cell_type": "code",
   "execution_count": 47,
   "metadata": {
    "collapsed": false
   },
   "outputs": [
    {
     "name": "stdout",
     "output_type": "stream",
     "text": [
      "Range ME | ME | Sample | StDev | Error | 95% Low | 95% High\n",
      "0 to 12.5  |  40.6  |  30  |  16.92  |  6.12  |  34.48  |  46.72\n",
      "Range ME+APP | ME+APP | Sample | StDev | Error | 95% Low | 95% High\n",
      "0 to 12.5  |  68.7  |  30  |  18.56  |  6.71  |  62.58  |  74.82\n",
      "Range ME | ME | Sample | StDev | Error | 95% Low | 95% High\n",
      "50 to 62.5  |  24.3  |  87  |  12.1  |  2.57  |  21.73  |  26.87\n",
      "Range ME+APP | ME+APP | Sample | StDev | Error | 95% Low | 95% High\n",
      "50 to 62.5  |  52.0  |  87  |  14.67  |  3.11  |  49.43  |  54.57\n",
      "Range ME | ME | Sample | StDev | Error | 95% Low | 95% High\n",
      "37.5 to 50  |  27.1  |  168  |  13.86  |  2.12  |  24.98  |  29.22\n",
      "Range ME+APP | ME+APP | Sample | StDev | Error | 95% Low | 95% High\n",
      "37.5 to 50  |  54.8  |  168  |  15.27  |  2.33  |  52.68  |  56.92\n",
      "Range ME | ME | Sample | StDev | Error | 95% Low | 95% High\n",
      "87.5 to 101  |  7.8  |  88  |  8.57  |  1.81  |  5.99  |  9.61\n",
      "Range ME+APP | ME+APP | Sample | StDev | Error | 95% Low | 95% High\n",
      "87.5 to 101  |  26.3  |  88  |  16.44  |  3.47  |  24.49  |  28.11\n",
      "Range ME | ME | Sample | StDev | Error | 95% Low | 95% High\n",
      "25 to 37.5  |  30.7  |  128  |  13.64  |  2.39  |  28.31  |  33.09\n",
      "Range ME+APP | ME+APP | Sample | StDev | Error | 95% Low | 95% High\n",
      "25 to 37.5  |  59.7  |  128  |  14.79  |  2.59  |  57.31  |  62.09\n",
      "Range ME | ME | Sample | StDev | Error | 95% Low | 95% High\n",
      "75 to 87.5  |  15.4  |  35  |  10.83  |  3.62  |  11.78  |  19.02\n",
      "Range ME+APP | ME+APP | Sample | StDev | Error | 95% Low | 95% High\n",
      "75 to 87.5  |  39.2  |  35  |  19.37  |  6.48  |  35.58  |  42.82\n",
      "Range ME | ME | Sample | StDev | Error | 95% Low | 95% High\n",
      "12.5 to 25  |  38.9  |  72  |  15.77  |  3.68  |  35.22  |  42.58\n",
      "Range ME+APP | ME+APP | Sample | StDev | Error | 95% Low | 95% High\n",
      "12.5 to 25  |  66.6  |  72  |  16.24  |  3.79  |  62.92  |  70.28\n",
      "Range ME | ME | Sample | StDev | Error | 95% Low | 95% High\n",
      "62.5 to 75  |  17.4  |  46  |  8.23  |  2.4  |  15.0  |  19.8\n",
      "Range ME+APP | ME+APP | Sample | StDev | Error | 95% Low | 95% High\n",
      "62.5 to 75  |  43.6  |  46  |  12.76  |  3.73  |  41.2  |  46.0\n",
      "done\n"
     ]
    }
   ],
   "source": [
    "#figure high schools\n",
    "\n",
    "lowincrange = {0: 12.5, 12.5: 25, 25: 37.5, 37.5: 50, 50: 62.5, 62.5: 75, 75: 87.5, 87.5: 101}\n",
    "\n",
    "for key in lowincrange:\n",
    "    dfselect = base[ base[\"me2015schoolHS\"].notnull() & ( base['lowinc2015'] >= key ) & ( base['lowinc2015'] < lowincrange[key] ) ]\n",
    "\n",
    "    meavg = round(dfselect[\"me2015schoolHS\"].mean(),1)\n",
    "    mestd = round(dfselect[\"me2015schoolHS\"].std(ddof=1),2)\n",
    "    dfselect.loc[:, 'avghs2015me'] = meavg\n",
    "    dfselect.loc[:, 'stdvhs2015me'] = mestd\n",
    "    dfselect.loc[:,'zhsscore2015me'] = ( ( dfselect['me2015schoolHS'] - meavg) / mestd ).round(2)\n",
    "    ssize = len(dfselect)\n",
    "    sterror = round((mestd / np.sqrt(ssize)) * 1.98,2)\n",
    "    low95 = round(meavg - sterror,2)\n",
    "    high95 = round(meavg + sterror,2)\n",
    "\n",
    "    meAPPavg = round(dfselect[\"MEappHS\"].mean(),1)\n",
    "    meAPPstd = round(dfselect[\"MEappHS\"].std(ddof=1),2)\n",
    "    dfselect.loc[:, 'avghs2015meapp'] = meavg\n",
    "    dfselect.loc[:, 'stdvhs2015meapp'] = mestd    \n",
    "    dfselect.loc[:,'zhsscore2015meapp'] = ( ( dfselect['MEappHS'] - meAPPavg) / meAPPstd ).round(2)\n",
    "    sterrorAPP = round((meAPPstd / np.sqrt(ssize)) * 1.98,2)\n",
    "    low95APP = round(meAPPavg - sterror,2)\n",
    "    high95APP = round(meAPPavg + sterror,2)\n",
    "\n",
    "    dfselect.loc[:,'avgHSz'] = ( ( dfselect['zhsscore2015meapp'] + dfselect['zhsscore2015me'] ) /2).round(2)\n",
    "    \n",
    "    print(\"Range ME | ME | Sample | StDev | Error | 95% Low | 95% High\")\n",
    "    print( key,\"to\",lowincrange[key],\" | \",meavg,\" | \",ssize,\" | \",mestd,\" | \",sterror,\" | \",low95,\" | \",high95 )\n",
    "    print(\"Range ME+APP | ME+APP | Sample | StDev | Error | 95% Low | 95% High\")\n",
    "    print( key,\"to\",lowincrange[key],\" | \",meAPPavg,\" | \",ssize,\" | \",meAPPstd,\" | \",sterrorAPP,\" | \",low95APP,\" | \",high95APP )\n",
    "\n",
    "    base.update(dfselect)\n",
    "    \n",
    "print('done')"
   ]
  },
  {
   "cell_type": "code",
   "execution_count": 48,
   "metadata": {
    "collapsed": false
   },
   "outputs": [
    {
     "data": {
      "text/html": [
       "<div style=\"max-height:1000px;max-width:1500px;overflow:auto;\">\n",
       "<table border=\"1\" class=\"dataframe\">\n",
       "  <thead>\n",
       "    <tr style=\"text-align: right;\">\n",
       "      <th></th>\n",
       "      <th>schid14</th>\n",
       "      <th>schid15</th>\n",
       "      <th>value</th>\n",
       "      <th>facilityname</th>\n",
       "      <th>selective</th>\n",
       "      <th>districtname</th>\n",
       "      <th>distid</th>\n",
       "      <th>distidalt</th>\n",
       "      <th>county</th>\n",
       "      <th>districttype</th>\n",
       "      <th>...</th>\n",
       "      <th>stdvelem2015meapp</th>\n",
       "      <th>avgELEMz</th>\n",
       "      <th>zhsscore2015me</th>\n",
       "      <th>avghs2015me</th>\n",
       "      <th>stdvhs2015me</th>\n",
       "      <th>zhsscore2015meapp</th>\n",
       "      <th>avghs2015meapp</th>\n",
       "      <th>stdvhs2015meapp</th>\n",
       "      <th>avgHSz</th>\n",
       "      <th>MEappHS</th>\n",
       "    </tr>\n",
       "    <tr>\n",
       "      <th>schid</th>\n",
       "      <th></th>\n",
       "      <th></th>\n",
       "      <th></th>\n",
       "      <th></th>\n",
       "      <th></th>\n",
       "      <th></th>\n",
       "      <th></th>\n",
       "      <th></th>\n",
       "      <th></th>\n",
       "      <th></th>\n",
       "      <th></th>\n",
       "      <th></th>\n",
       "      <th></th>\n",
       "      <th></th>\n",
       "      <th></th>\n",
       "      <th></th>\n",
       "      <th></th>\n",
       "      <th></th>\n",
       "      <th></th>\n",
       "      <th></th>\n",
       "      <th></th>\n",
       "    </tr>\n",
       "  </thead>\n",
       "  <tbody>\n",
       "    <tr>\n",
       "      <th>010010010260001</th>\n",
       "      <td>010010010260001</td>\n",
       "      <td>010010010260001</td>\n",
       "      <td>Seymour High School, Payson</td>\n",
       "      <td>Seymour High School</td>\n",
       "      <td>--</td>\n",
       "      <td>Payson CUSD 1</td>\n",
       "      <td>010010010260000</td>\n",
       "      <td>010010010260000</td>\n",
       "      <td>Adams</td>\n",
       "      <td>UNIT</td>\n",
       "      <td>...</td>\n",
       "      <td></td>\n",
       "      <td>500.00</td>\n",
       "      <td>-0.11</td>\n",
       "      <td>27.1</td>\n",
       "      <td>13.86</td>\n",
       "      <td>0.03</td>\n",
       "      <td>27.1</td>\n",
       "      <td>13.86</td>\n",
       "      <td>-0.04</td>\n",
       "      <td>55.2</td>\n",
       "    </tr>\n",
       "    <tr>\n",
       "      <th>010010010262002</th>\n",
       "      <td>010010010262002</td>\n",
       "      <td>010010010262002</td>\n",
       "      <td>Seymour Elementary School, Payson</td>\n",
       "      <td>Seymour Elementary School</td>\n",
       "      <td>--</td>\n",
       "      <td>Payson CUSD 1</td>\n",
       "      <td>010010010260000</td>\n",
       "      <td>010010010260000</td>\n",
       "      <td>Adams</td>\n",
       "      <td>UNIT</td>\n",
       "      <td>...</td>\n",
       "      <td>9.61</td>\n",
       "      <td>0.57</td>\n",
       "      <td>500.00</td>\n",
       "      <td></td>\n",
       "      <td></td>\n",
       "      <td>500.00</td>\n",
       "      <td></td>\n",
       "      <td></td>\n",
       "      <td>500.00</td>\n",
       "      <td>NaN</td>\n",
       "    </tr>\n",
       "    <tr>\n",
       "      <th>010010020260001</th>\n",
       "      <td>010010020260001</td>\n",
       "      <td>010010020260001</td>\n",
       "      <td>Liberty High School, Liberty</td>\n",
       "      <td>Liberty High School</td>\n",
       "      <td>--</td>\n",
       "      <td>Liberty CUSD 2</td>\n",
       "      <td>010010020260000</td>\n",
       "      <td>010010020260000</td>\n",
       "      <td>Adams</td>\n",
       "      <td>UNIT</td>\n",
       "      <td>...</td>\n",
       "      <td></td>\n",
       "      <td>500.00</td>\n",
       "      <td>0.01</td>\n",
       "      <td>30.7</td>\n",
       "      <td>13.64</td>\n",
       "      <td>0.80</td>\n",
       "      <td>30.7</td>\n",
       "      <td>13.64</td>\n",
       "      <td>0.40</td>\n",
       "      <td>71.5</td>\n",
       "    </tr>\n",
       "  </tbody>\n",
       "</table>\n",
       "<p>3 rows × 256 columns</p>\n",
       "</div>"
      ],
      "text/plain": [
       "                         schid14          schid15  \\\n",
       "schid                                               \n",
       "010010010260001  010010010260001  010010010260001   \n",
       "010010010262002  010010010262002  010010010262002   \n",
       "010010020260001  010010020260001  010010020260001   \n",
       "\n",
       "                                             value               facilityname  \\\n",
       "schid                                                                           \n",
       "010010010260001        Seymour High School, Payson        Seymour High School   \n",
       "010010010262002  Seymour Elementary School, Payson  Seymour Elementary School   \n",
       "010010020260001       Liberty High School, Liberty        Liberty High School   \n",
       "\n",
       "                selective    districtname           distid        distidalt  \\\n",
       "schid                                                                         \n",
       "010010010260001        --   Payson CUSD 1  010010010260000  010010010260000   \n",
       "010010010262002        --   Payson CUSD 1  010010010260000  010010010260000   \n",
       "010010020260001        --  Liberty CUSD 2  010010020260000  010010020260000   \n",
       "\n",
       "                county districttype   ...    stdvelem2015meapp avgELEMz  \\\n",
       "schid                                 ...                                 \n",
       "010010010260001  Adams         UNIT   ...                        500.00   \n",
       "010010010262002  Adams         UNIT   ...                 9.61     0.57   \n",
       "010010020260001  Adams         UNIT   ...                        500.00   \n",
       "\n",
       "                zhsscore2015me avghs2015me stdvhs2015me zhsscore2015meapp  \\\n",
       "schid                                                                       \n",
       "010010010260001          -0.11        27.1        13.86              0.03   \n",
       "010010010262002         500.00                                     500.00   \n",
       "010010020260001           0.01        30.7        13.64              0.80   \n",
       "\n",
       "                avghs2015meapp stdvhs2015meapp  avgHSz  MEappHS  \n",
       "schid                                                            \n",
       "010010010260001           27.1           13.86   -0.04     55.2  \n",
       "010010010262002                                 500.00      NaN  \n",
       "010010020260001           30.7           13.64    0.40     71.5  \n",
       "\n",
       "[3 rows x 256 columns]"
      ]
     },
     "execution_count": 48,
     "metadata": {},
     "output_type": "execute_result"
    }
   ],
   "source": [
    "base.head(3)"
   ]
  },
  {
   "cell_type": "code",
   "execution_count": 49,
   "metadata": {
    "collapsed": false
   },
   "outputs": [
    {
     "data": {
      "text/html": [
       "<div style=\"max-height:1000px;max-width:1500px;overflow:auto;\">\n",
       "<table border=\"1\" class=\"dataframe\">\n",
       "  <thead>\n",
       "    <tr style=\"text-align: right;\">\n",
       "      <th></th>\n",
       "      <th>schid14</th>\n",
       "      <th>schid15</th>\n",
       "      <th>value</th>\n",
       "      <th>facilityname</th>\n",
       "      <th>selective</th>\n",
       "      <th>districtname</th>\n",
       "      <th>distid</th>\n",
       "      <th>distidalt</th>\n",
       "      <th>county</th>\n",
       "      <th>districttype</th>\n",
       "      <th>...</th>\n",
       "      <th>stdvelem2015meapp</th>\n",
       "      <th>avgELEMz</th>\n",
       "      <th>zhsscore2015me</th>\n",
       "      <th>avghs2015me</th>\n",
       "      <th>stdvhs2015me</th>\n",
       "      <th>zhsscore2015meapp</th>\n",
       "      <th>avghs2015meapp</th>\n",
       "      <th>stdvhs2015meapp</th>\n",
       "      <th>avgHSz</th>\n",
       "      <th>MEappHS</th>\n",
       "    </tr>\n",
       "    <tr>\n",
       "      <th>schid</th>\n",
       "      <th></th>\n",
       "      <th></th>\n",
       "      <th></th>\n",
       "      <th></th>\n",
       "      <th></th>\n",
       "      <th></th>\n",
       "      <th></th>\n",
       "      <th></th>\n",
       "      <th></th>\n",
       "      <th></th>\n",
       "      <th></th>\n",
       "      <th></th>\n",
       "      <th></th>\n",
       "      <th></th>\n",
       "      <th></th>\n",
       "      <th></th>\n",
       "      <th></th>\n",
       "      <th></th>\n",
       "      <th></th>\n",
       "      <th></th>\n",
       "      <th></th>\n",
       "    </tr>\n",
       "  </thead>\n",
       "  <tbody>\n",
       "    <tr>\n",
       "      <th>010010010260001</th>\n",
       "      <td>010010010260001</td>\n",
       "      <td>010010010260001</td>\n",
       "      <td>Seymour High School, Payson</td>\n",
       "      <td>Seymour High School</td>\n",
       "      <td>--</td>\n",
       "      <td>Payson CUSD 1</td>\n",
       "      <td>010010010260000</td>\n",
       "      <td>010010010260000</td>\n",
       "      <td>Adams</td>\n",
       "      <td>UNIT</td>\n",
       "      <td>...</td>\n",
       "      <td></td>\n",
       "      <td></td>\n",
       "      <td>-0.11</td>\n",
       "      <td>27.1</td>\n",
       "      <td>13.86</td>\n",
       "      <td>0.03</td>\n",
       "      <td>27.1</td>\n",
       "      <td>13.86</td>\n",
       "      <td>-0.04</td>\n",
       "      <td>55.2</td>\n",
       "    </tr>\n",
       "    <tr>\n",
       "      <th>010010010262002</th>\n",
       "      <td>010010010262002</td>\n",
       "      <td>010010010262002</td>\n",
       "      <td>Seymour Elementary School, Payson</td>\n",
       "      <td>Seymour Elementary School</td>\n",
       "      <td>--</td>\n",
       "      <td>Payson CUSD 1</td>\n",
       "      <td>010010010260000</td>\n",
       "      <td>010010010260000</td>\n",
       "      <td>Adams</td>\n",
       "      <td>UNIT</td>\n",
       "      <td>...</td>\n",
       "      <td>9.61</td>\n",
       "      <td>0.57</td>\n",
       "      <td></td>\n",
       "      <td></td>\n",
       "      <td></td>\n",
       "      <td></td>\n",
       "      <td></td>\n",
       "      <td></td>\n",
       "      <td></td>\n",
       "      <td>NaN</td>\n",
       "    </tr>\n",
       "    <tr>\n",
       "      <th>010010020260001</th>\n",
       "      <td>010010020260001</td>\n",
       "      <td>010010020260001</td>\n",
       "      <td>Liberty High School, Liberty</td>\n",
       "      <td>Liberty High School</td>\n",
       "      <td>--</td>\n",
       "      <td>Liberty CUSD 2</td>\n",
       "      <td>010010020260000</td>\n",
       "      <td>010010020260000</td>\n",
       "      <td>Adams</td>\n",
       "      <td>UNIT</td>\n",
       "      <td>...</td>\n",
       "      <td></td>\n",
       "      <td></td>\n",
       "      <td>0.01</td>\n",
       "      <td>30.7</td>\n",
       "      <td>13.64</td>\n",
       "      <td>0.8</td>\n",
       "      <td>30.7</td>\n",
       "      <td>13.64</td>\n",
       "      <td>0.4</td>\n",
       "      <td>71.5</td>\n",
       "    </tr>\n",
       "  </tbody>\n",
       "</table>\n",
       "<p>3 rows × 256 columns</p>\n",
       "</div>"
      ],
      "text/plain": [
       "                         schid14          schid15  \\\n",
       "schid                                               \n",
       "010010010260001  010010010260001  010010010260001   \n",
       "010010010262002  010010010262002  010010010262002   \n",
       "010010020260001  010010020260001  010010020260001   \n",
       "\n",
       "                                             value               facilityname  \\\n",
       "schid                                                                           \n",
       "010010010260001        Seymour High School, Payson        Seymour High School   \n",
       "010010010262002  Seymour Elementary School, Payson  Seymour Elementary School   \n",
       "010010020260001       Liberty High School, Liberty        Liberty High School   \n",
       "\n",
       "                selective    districtname           distid        distidalt  \\\n",
       "schid                                                                         \n",
       "010010010260001        --   Payson CUSD 1  010010010260000  010010010260000   \n",
       "010010010262002        --   Payson CUSD 1  010010010260000  010010010260000   \n",
       "010010020260001        --  Liberty CUSD 2  010010020260000  010010020260000   \n",
       "\n",
       "                county districttype   ...    stdvelem2015meapp avgELEMz  \\\n",
       "schid                                 ...                                 \n",
       "010010010260001  Adams         UNIT   ...                                 \n",
       "010010010262002  Adams         UNIT   ...                 9.61     0.57   \n",
       "010010020260001  Adams         UNIT   ...                                 \n",
       "\n",
       "                zhsscore2015me avghs2015me stdvhs2015me zhsscore2015meapp  \\\n",
       "schid                                                                       \n",
       "010010010260001          -0.11        27.1        13.86              0.03   \n",
       "010010010262002                                                             \n",
       "010010020260001           0.01        30.7        13.64               0.8   \n",
       "\n",
       "                avghs2015meapp stdvhs2015meapp  avgHSz  MEappHS  \n",
       "schid                                                            \n",
       "010010010260001           27.1           13.86   -0.04     55.2  \n",
       "010010010262002                                             NaN  \n",
       "010010020260001           30.7           13.64     0.4     71.5  \n",
       "\n",
       "[3 rows x 256 columns]"
      ]
     },
     "execution_count": 49,
     "metadata": {},
     "output_type": "execute_result"
    }
   ],
   "source": [
    "base.loc[base['zelemscore2015me'] == 500.0, 'zelemscore2015me'] = ''\n",
    "base.loc[base['zelemscore2015meapp'] == 500.0, 'zelemscore2015meapp'] = ''\n",
    "base.loc[base['avgELEMz'] == 500.0, 'avgELEMz'] = ''\n",
    "base.loc[base['zhsscore2015me'] == 500.0, 'zhsscore2015me'] = ''\n",
    "base.loc[base['zhsscore2015meapp'] == 500.0, 'zhsscore2015meapp'] = ''\n",
    "base.loc[base['avgHSz'] == 500.0, 'avgHSz'] = ''\n",
    "base.head(3)"
   ]
  },
  {
   "cell_type": "code",
   "execution_count": 50,
   "metadata": {
    "collapsed": false
   },
   "outputs": [
    {
     "data": {
      "text/plain": [
       "(4094, 255)"
      ]
     },
     "execution_count": 50,
     "metadata": {},
     "output_type": "execute_result"
    }
   ],
   "source": [
    "base = base.drop('MEappHS', 1)\n",
    "base.shape"
   ]
  },
  {
   "cell_type": "code",
   "execution_count": 51,
   "metadata": {
    "collapsed": true
   },
   "outputs": [],
   "source": [
    "#for me to fiddle with\n",
    "base.to_csv(\"rc15csv/pai2015done.csv\")"
   ]
  },
  {
   "cell_type": "code",
   "execution_count": null,
   "metadata": {
    "collapsed": true
   },
   "outputs": [],
   "source": []
  }
 ],
 "metadata": {
  "kernelspec": {
   "display_name": "Python 3",
   "language": "python",
   "name": "python3"
  },
  "language_info": {
   "codemirror_mode": {
    "name": "ipython",
    "version": 3
   },
   "file_extension": ".py",
   "mimetype": "text/x-python",
   "name": "python",
   "nbconvert_exporter": "python",
   "pygments_lexer": "ipython3",
   "version": "3.4.3"
  }
 },
 "nbformat": 4,
 "nbformat_minor": 0
}

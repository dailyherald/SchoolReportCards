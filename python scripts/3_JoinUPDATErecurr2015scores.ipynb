{
 "cells": [
  {
   "cell_type": "code",
   "execution_count": 57,
   "metadata": {
    "collapsed": false
   },
   "outputs": [
    {
     "name": "stdout",
     "output_type": "stream",
     "text": [
      "ready\n"
     ]
    }
   ],
   "source": [
    "import pandas as pd\n",
    "import numpy as np\n",
    "print(\"ready\")"
   ]
  },
  {
   "cell_type": "code",
   "execution_count": 58,
   "metadata": {
    "collapsed": false
   },
   "outputs": [
    {
     "data": {
      "text/html": [
       "<div style=\"max-height:1000px;max-width:1500px;overflow:auto;\">\n",
       "<table border=\"1\" class=\"dataframe\">\n",
       "  <thead>\n",
       "    <tr style=\"text-align: right;\">\n",
       "      <th></th>\n",
       "      <th>schid14</th>\n",
       "      <th>schid15</th>\n",
       "      <th>schid</th>\n",
       "      <th>value</th>\n",
       "      <th>facilityname</th>\n",
       "      <th>selective</th>\n",
       "      <th>districtname</th>\n",
       "      <th>distid</th>\n",
       "      <th>distidalt</th>\n",
       "      <th>county</th>\n",
       "      <th>...</th>\n",
       "      <th>enrolldist2014</th>\n",
       "      <th>grades2014</th>\n",
       "      <th>zelemscore2014</th>\n",
       "      <th>avgelem2014</th>\n",
       "      <th>stdvelem2014</th>\n",
       "      <th>zhsscore2014</th>\n",
       "      <th>avghs2014</th>\n",
       "      <th>stdvhs2014</th>\n",
       "      <th>Unnamed: 214</th>\n",
       "      <th>Unnamed: 215</th>\n",
       "    </tr>\n",
       "  </thead>\n",
       "  <tbody>\n",
       "    <tr>\n",
       "      <th>0</th>\n",
       "      <td>010010010260001</td>\n",
       "      <td>010010010260001</td>\n",
       "      <td>010010010260001</td>\n",
       "      <td>Seymour High School, Payson</td>\n",
       "      <td>Seymour High School</td>\n",
       "      <td>--</td>\n",
       "      <td>Payson CUSD 1</td>\n",
       "      <td>010010010260000</td>\n",
       "      <td>010010010260000</td>\n",
       "      <td>Adams</td>\n",
       "      <td>...</td>\n",
       "      <td>531</td>\n",
       "      <td>7 8 9 10 11 12</td>\n",
       "      <td>-0.6</td>\n",
       "      <td>60.5</td>\n",
       "      <td>9.63</td>\n",
       "      <td>-0.12</td>\n",
       "      <td>51.3</td>\n",
       "      <td>10.72</td>\n",
       "      <td>NaN</td>\n",
       "      <td>NaN</td>\n",
       "    </tr>\n",
       "    <tr>\n",
       "      <th>1</th>\n",
       "      <td>010010010262002</td>\n",
       "      <td>010010010262002</td>\n",
       "      <td>010010010262002</td>\n",
       "      <td>Seymour Elementary School, Payson</td>\n",
       "      <td>Seymour Elementary School</td>\n",
       "      <td>--</td>\n",
       "      <td>Payson CUSD 1</td>\n",
       "      <td>010010010260000</td>\n",
       "      <td>010010010260000</td>\n",
       "      <td>Adams</td>\n",
       "      <td>...</td>\n",
       "      <td>531</td>\n",
       "      <td>PK K 1 2 3 4 5 6</td>\n",
       "      <td>-0.25</td>\n",
       "      <td>60.5</td>\n",
       "      <td>9.63</td>\n",
       "      <td>--</td>\n",
       "      <td>--</td>\n",
       "      <td>--</td>\n",
       "      <td>NaN</td>\n",
       "      <td>NaN</td>\n",
       "    </tr>\n",
       "    <tr>\n",
       "      <th>2</th>\n",
       "      <td>010010020260001</td>\n",
       "      <td>010010020260001</td>\n",
       "      <td>010010020260001</td>\n",
       "      <td>Liberty High School, Liberty</td>\n",
       "      <td>Liberty High School</td>\n",
       "      <td>--</td>\n",
       "      <td>Liberty CUSD 2</td>\n",
       "      <td>010010020260000</td>\n",
       "      <td>010010020260000</td>\n",
       "      <td>Adams</td>\n",
       "      <td>...</td>\n",
       "      <td>661</td>\n",
       "      <td>7 8 9 10 11 12</td>\n",
       "      <td>-0.08</td>\n",
       "      <td>65.5</td>\n",
       "      <td>9.17</td>\n",
       "      <td>-0.09</td>\n",
       "      <td>58.2</td>\n",
       "      <td>9.56</td>\n",
       "      <td>NaN</td>\n",
       "      <td>NaN</td>\n",
       "    </tr>\n",
       "  </tbody>\n",
       "</table>\n",
       "<p>3 rows × 216 columns</p>\n",
       "</div>"
      ],
      "text/plain": [
       "           schid14          schid15            schid  \\\n",
       "0  010010010260001  010010010260001  010010010260001   \n",
       "1  010010010262002  010010010262002  010010010262002   \n",
       "2  010010020260001  010010020260001  010010020260001   \n",
       "\n",
       "                               value               facilityname selective  \\\n",
       "0        Seymour High School, Payson        Seymour High School        --   \n",
       "1  Seymour Elementary School, Payson  Seymour Elementary School        --   \n",
       "2       Liberty High School, Liberty        Liberty High School        --   \n",
       "\n",
       "     districtname           distid        distidalt county      ...       \\\n",
       "0   Payson CUSD 1  010010010260000  010010010260000  Adams      ...        \n",
       "1   Payson CUSD 1  010010010260000  010010010260000  Adams      ...        \n",
       "2  Liberty CUSD 2  010010020260000  010010020260000  Adams      ...        \n",
       "\n",
       "  enrolldist2014        grades2014 zelemscore2014 avgelem2014 stdvelem2014  \\\n",
       "0            531    7 8 9 10 11 12           -0.6        60.5         9.63   \n",
       "1            531  PK K 1 2 3 4 5 6          -0.25        60.5         9.63   \n",
       "2            661    7 8 9 10 11 12          -0.08        65.5         9.17   \n",
       "\n",
       "  zhsscore2014 avghs2014 stdvhs2014 Unnamed: 214  Unnamed: 215  \n",
       "0        -0.12      51.3      10.72          NaN           NaN  \n",
       "1           --        --         --          NaN           NaN  \n",
       "2        -0.09      58.2       9.56          NaN           NaN  \n",
       "\n",
       "[3 rows x 216 columns]"
      ]
     },
     "execution_count": 58,
     "metadata": {},
     "output_type": "execute_result"
    }
   ],
   "source": [
    "sch2015only = pd.read_csv('rc15csv/rc2015sch.csv', index_col=None)\n",
    "sch2015only.head(3)"
   ]
  },
  {
   "cell_type": "code",
   "execution_count": 59,
   "metadata": {
    "collapsed": false
   },
   "outputs": [
    {
     "data": {
      "text/plain": [
       "(4094, 214)"
      ]
     },
     "execution_count": 59,
     "metadata": {},
     "output_type": "execute_result"
    }
   ],
   "source": [
    "sch2015only = sch2015only.drop('Unnamed: 214',1)\n",
    "sch2015only = sch2015only.drop('Unnamed: 215',1)\n",
    "sch2015only.shape"
   ]
  },
  {
   "cell_type": "code",
   "execution_count": 60,
   "metadata": {
    "collapsed": false
   },
   "outputs": [
    {
     "name": "stdout",
     "output_type": "stream",
     "text": [
      "1 loaded\n"
     ]
    }
   ],
   "source": [
    "updaterecurr = pd.read_csv('rc15csv/UPDATErecurr2015.csv', index_col=None)\n",
    "print('1 loaded')"
   ]
  },
  {
   "cell_type": "code",
   "execution_count": 61,
   "metadata": {
    "collapsed": false,
    "scrolled": true
   },
   "outputs": [
    {
     "data": {
      "text/html": [
       "<div style=\"max-height:1000px;max-width:1500px;overflow:auto;\">\n",
       "<table border=\"1\" class=\"dataframe\">\n",
       "  <thead>\n",
       "    <tr style=\"text-align: right;\">\n",
       "      <th></th>\n",
       "      <th>schid</th>\n",
       "      <th>grades2015</th>\n",
       "      <th>percmin2015</th>\n",
       "      <th>enroll2015</th>\n",
       "      <th>enrolldist2015</th>\n",
       "      <th>lowinc2015</th>\n",
       "      <th>act2015school</th>\n",
       "      <th>actscore2015district</th>\n",
       "      <th>actscore2015state</th>\n",
       "    </tr>\n",
       "  </thead>\n",
       "  <tbody>\n",
       "    <tr>\n",
       "      <th>0</th>\n",
       "      <td>010010010260001</td>\n",
       "      <td>7 8 9 10 11 12</td>\n",
       "      <td>2.4</td>\n",
       "      <td>206</td>\n",
       "      <td>517</td>\n",
       "      <td>39.3</td>\n",
       "      <td>18.4</td>\n",
       "      <td>18.4</td>\n",
       "      <td>20.5</td>\n",
       "    </tr>\n",
       "    <tr>\n",
       "      <th>1</th>\n",
       "      <td>010010010262002</td>\n",
       "      <td>PK K 1 2 3 4 5 6</td>\n",
       "      <td>4.5</td>\n",
       "      <td>311</td>\n",
       "      <td>517</td>\n",
       "      <td>54.7</td>\n",
       "      <td>NaN</td>\n",
       "      <td>18.4</td>\n",
       "      <td>20.5</td>\n",
       "    </tr>\n",
       "    <tr>\n",
       "      <th>2</th>\n",
       "      <td>010010020260001</td>\n",
       "      <td>7 8 9 10 11 12</td>\n",
       "      <td>1.7</td>\n",
       "      <td>296</td>\n",
       "      <td>653</td>\n",
       "      <td>34.1</td>\n",
       "      <td>20.6</td>\n",
       "      <td>20.6</td>\n",
       "      <td>20.5</td>\n",
       "    </tr>\n",
       "  </tbody>\n",
       "</table>\n",
       "</div>"
      ],
      "text/plain": [
       "             schid        grades2015  percmin2015 enroll2015 enrolldist2015  \\\n",
       "0  010010010260001    7 8 9 10 11 12          2.4        206            517   \n",
       "1  010010010262002  PK K 1 2 3 4 5 6          4.5        311            517   \n",
       "2  010010020260001    7 8 9 10 11 12          1.7        296            653   \n",
       "\n",
       "   lowinc2015  act2015school  actscore2015district  actscore2015state  \n",
       "0        39.3           18.4                  18.4               20.5  \n",
       "1        54.7            NaN                  18.4               20.5  \n",
       "2        34.1           20.6                  20.6               20.5  "
      ]
     },
     "execution_count": 61,
     "metadata": {},
     "output_type": "execute_result"
    }
   ],
   "source": [
    "updaterecurr.head(3)"
   ]
  },
  {
   "cell_type": "code",
   "execution_count": 62,
   "metadata": {
    "collapsed": false
   },
   "outputs": [
    {
     "data": {
      "text/plain": [
       "(4094, 222)"
      ]
     },
     "execution_count": 62,
     "metadata": {},
     "output_type": "execute_result"
    }
   ],
   "source": [
    "left = sch2015only\n",
    "right = updaterecurr\n",
    "result = pd.merge(left, right, how='left', on='schid', suffixes=('_x', '_y'))\n",
    "result.shape"
   ]
  },
  {
   "cell_type": "code",
   "execution_count": 63,
   "metadata": {
    "collapsed": false
   },
   "outputs": [
    {
     "data": {
      "text/html": [
       "<div style=\"max-height:1000px;max-width:1500px;overflow:auto;\">\n",
       "<table border=\"1\" class=\"dataframe\">\n",
       "  <thead>\n",
       "    <tr style=\"text-align: right;\">\n",
       "      <th></th>\n",
       "      <th>schid14</th>\n",
       "      <th>schid15</th>\n",
       "      <th>schid</th>\n",
       "      <th>value</th>\n",
       "      <th>facilityname</th>\n",
       "      <th>selective</th>\n",
       "      <th>districtname</th>\n",
       "      <th>distid</th>\n",
       "      <th>distidalt</th>\n",
       "      <th>county</th>\n",
       "      <th>...</th>\n",
       "      <th>avghs2014</th>\n",
       "      <th>stdvhs2014</th>\n",
       "      <th>grades2015</th>\n",
       "      <th>percmin2015</th>\n",
       "      <th>enroll2015</th>\n",
       "      <th>enrolldist2015</th>\n",
       "      <th>lowinc2015</th>\n",
       "      <th>act2015school</th>\n",
       "      <th>actscore2015district</th>\n",
       "      <th>actscore2015state</th>\n",
       "    </tr>\n",
       "  </thead>\n",
       "  <tbody>\n",
       "    <tr>\n",
       "      <th>0</th>\n",
       "      <td>010010010260001</td>\n",
       "      <td>010010010260001</td>\n",
       "      <td>010010010260001</td>\n",
       "      <td>Seymour High School, Payson</td>\n",
       "      <td>Seymour High School</td>\n",
       "      <td>--</td>\n",
       "      <td>Payson CUSD 1</td>\n",
       "      <td>010010010260000</td>\n",
       "      <td>010010010260000</td>\n",
       "      <td>Adams</td>\n",
       "      <td>...</td>\n",
       "      <td>51.3</td>\n",
       "      <td>10.72</td>\n",
       "      <td>7 8 9 10 11 12</td>\n",
       "      <td>2.4</td>\n",
       "      <td>206</td>\n",
       "      <td>517</td>\n",
       "      <td>39.3</td>\n",
       "      <td>18.4</td>\n",
       "      <td>18.4</td>\n",
       "      <td>20.5</td>\n",
       "    </tr>\n",
       "    <tr>\n",
       "      <th>1</th>\n",
       "      <td>010010010262002</td>\n",
       "      <td>010010010262002</td>\n",
       "      <td>010010010262002</td>\n",
       "      <td>Seymour Elementary School, Payson</td>\n",
       "      <td>Seymour Elementary School</td>\n",
       "      <td>--</td>\n",
       "      <td>Payson CUSD 1</td>\n",
       "      <td>010010010260000</td>\n",
       "      <td>010010010260000</td>\n",
       "      <td>Adams</td>\n",
       "      <td>...</td>\n",
       "      <td>--</td>\n",
       "      <td>--</td>\n",
       "      <td>PK K 1 2 3 4 5 6</td>\n",
       "      <td>4.5</td>\n",
       "      <td>311</td>\n",
       "      <td>517</td>\n",
       "      <td>54.7</td>\n",
       "      <td>NaN</td>\n",
       "      <td>18.4</td>\n",
       "      <td>20.5</td>\n",
       "    </tr>\n",
       "    <tr>\n",
       "      <th>2</th>\n",
       "      <td>010010020260001</td>\n",
       "      <td>010010020260001</td>\n",
       "      <td>010010020260001</td>\n",
       "      <td>Liberty High School, Liberty</td>\n",
       "      <td>Liberty High School</td>\n",
       "      <td>--</td>\n",
       "      <td>Liberty CUSD 2</td>\n",
       "      <td>010010020260000</td>\n",
       "      <td>010010020260000</td>\n",
       "      <td>Adams</td>\n",
       "      <td>...</td>\n",
       "      <td>58.2</td>\n",
       "      <td>9.56</td>\n",
       "      <td>7 8 9 10 11 12</td>\n",
       "      <td>1.7</td>\n",
       "      <td>296</td>\n",
       "      <td>653</td>\n",
       "      <td>34.1</td>\n",
       "      <td>20.6</td>\n",
       "      <td>20.6</td>\n",
       "      <td>20.5</td>\n",
       "    </tr>\n",
       "  </tbody>\n",
       "</table>\n",
       "<p>3 rows × 222 columns</p>\n",
       "</div>"
      ],
      "text/plain": [
       "           schid14          schid15            schid  \\\n",
       "0  010010010260001  010010010260001  010010010260001   \n",
       "1  010010010262002  010010010262002  010010010262002   \n",
       "2  010010020260001  010010020260001  010010020260001   \n",
       "\n",
       "                               value               facilityname selective  \\\n",
       "0        Seymour High School, Payson        Seymour High School        --   \n",
       "1  Seymour Elementary School, Payson  Seymour Elementary School        --   \n",
       "2       Liberty High School, Liberty        Liberty High School        --   \n",
       "\n",
       "     districtname           distid        distidalt county        ...          \\\n",
       "0   Payson CUSD 1  010010010260000  010010010260000  Adams        ...           \n",
       "1   Payson CUSD 1  010010010260000  010010010260000  Adams        ...           \n",
       "2  Liberty CUSD 2  010010020260000  010010020260000  Adams        ...           \n",
       "\n",
       "  avghs2014 stdvhs2014        grades2015 percmin2015 enroll2015  \\\n",
       "0      51.3      10.72    7 8 9 10 11 12         2.4        206   \n",
       "1        --         --  PK K 1 2 3 4 5 6         4.5        311   \n",
       "2      58.2       9.56    7 8 9 10 11 12         1.7        296   \n",
       "\n",
       "  enrolldist2015 lowinc2015 act2015school actscore2015district  \\\n",
       "0            517       39.3          18.4                 18.4   \n",
       "1            517       54.7           NaN                 18.4   \n",
       "2            653       34.1          20.6                 20.6   \n",
       "\n",
       "   actscore2015state  \n",
       "0               20.5  \n",
       "1               20.5  \n",
       "2               20.5  \n",
       "\n",
       "[3 rows x 222 columns]"
      ]
     },
     "execution_count": 63,
     "metadata": {},
     "output_type": "execute_result"
    }
   ],
   "source": [
    "result.head(3)"
   ]
  },
  {
   "cell_type": "code",
   "execution_count": 64,
   "metadata": {
    "collapsed": false,
    "scrolled": true
   },
   "outputs": [
    {
     "data": {
      "text/html": [
       "<div style=\"max-height:1000px;max-width:1500px;overflow:auto;\">\n",
       "<table border=\"1\" class=\"dataframe\">\n",
       "  <thead>\n",
       "    <tr style=\"text-align: right;\">\n",
       "      <th></th>\n",
       "      <th>schid</th>\n",
       "      <th>me2015school</th>\n",
       "      <th>me2015district</th>\n",
       "      <th>me2015state</th>\n",
       "      <th>me2015schDNY</th>\n",
       "      <th>me2015schPART</th>\n",
       "      <th>me2015schAPP</th>\n",
       "      <th>me2015schMET</th>\n",
       "      <th>me2015schEXC</th>\n",
       "      <th>me2015distDNY</th>\n",
       "      <th>me2015distPART</th>\n",
       "      <th>me2015distAPP</th>\n",
       "      <th>me2015distMET</th>\n",
       "      <th>me2015distEXC</th>\n",
       "      <th>me2015stateDNY</th>\n",
       "      <th>me2015statePART</th>\n",
       "      <th>me2015stateAPP</th>\n",
       "      <th>me2015stateMET</th>\n",
       "      <th>me2015stateEXC</th>\n",
       "    </tr>\n",
       "  </thead>\n",
       "  <tbody>\n",
       "    <tr>\n",
       "      <th>0</th>\n",
       "      <td>010010010260001</td>\n",
       "      <td>25.6</td>\n",
       "      <td>33.0</td>\n",
       "      <td>33</td>\n",
       "      <td>24.8</td>\n",
       "      <td>20.0</td>\n",
       "      <td>29.6</td>\n",
       "      <td>20.0</td>\n",
       "      <td>5.6</td>\n",
       "      <td>15.0</td>\n",
       "      <td>21.9</td>\n",
       "      <td>30.2</td>\n",
       "      <td>30.2</td>\n",
       "      <td>2.9</td>\n",
       "      <td>14.4</td>\n",
       "      <td>24.2</td>\n",
       "      <td>28.4</td>\n",
       "      <td>28.6</td>\n",
       "      <td>4.4</td>\n",
       "    </tr>\n",
       "    <tr>\n",
       "      <th>1</th>\n",
       "      <td>010010010262002</td>\n",
       "      <td>36.1</td>\n",
       "      <td>33.0</td>\n",
       "      <td>33</td>\n",
       "      <td>10.8</td>\n",
       "      <td>22.6</td>\n",
       "      <td>30.4</td>\n",
       "      <td>34.5</td>\n",
       "      <td>1.7</td>\n",
       "      <td>15.0</td>\n",
       "      <td>21.9</td>\n",
       "      <td>30.2</td>\n",
       "      <td>30.2</td>\n",
       "      <td>2.9</td>\n",
       "      <td>14.4</td>\n",
       "      <td>24.2</td>\n",
       "      <td>28.4</td>\n",
       "      <td>28.6</td>\n",
       "      <td>4.4</td>\n",
       "    </tr>\n",
       "    <tr>\n",
       "      <th>2</th>\n",
       "      <td>010010020260001</td>\n",
       "      <td>30.9</td>\n",
       "      <td>31.5</td>\n",
       "      <td>33</td>\n",
       "      <td>9.7</td>\n",
       "      <td>18.8</td>\n",
       "      <td>40.6</td>\n",
       "      <td>28.8</td>\n",
       "      <td>2.1</td>\n",
       "      <td>9.0</td>\n",
       "      <td>21.9</td>\n",
       "      <td>37.6</td>\n",
       "      <td>28.6</td>\n",
       "      <td>2.9</td>\n",
       "      <td>14.4</td>\n",
       "      <td>24.2</td>\n",
       "      <td>28.4</td>\n",
       "      <td>28.6</td>\n",
       "      <td>4.4</td>\n",
       "    </tr>\n",
       "    <tr>\n",
       "      <th>3</th>\n",
       "      <td>010010020262002</td>\n",
       "      <td>32.0</td>\n",
       "      <td>31.5</td>\n",
       "      <td>33</td>\n",
       "      <td>8.5</td>\n",
       "      <td>24.3</td>\n",
       "      <td>35.2</td>\n",
       "      <td>28.4</td>\n",
       "      <td>3.6</td>\n",
       "      <td>9.0</td>\n",
       "      <td>21.9</td>\n",
       "      <td>37.6</td>\n",
       "      <td>28.6</td>\n",
       "      <td>2.9</td>\n",
       "      <td>14.4</td>\n",
       "      <td>24.2</td>\n",
       "      <td>28.4</td>\n",
       "      <td>28.6</td>\n",
       "      <td>4.4</td>\n",
       "    </tr>\n",
       "    <tr>\n",
       "      <th>4</th>\n",
       "      <td>010010030260001</td>\n",
       "      <td>11.0</td>\n",
       "      <td>22.6</td>\n",
       "      <td>33</td>\n",
       "      <td>39.7</td>\n",
       "      <td>24.0</td>\n",
       "      <td>25.3</td>\n",
       "      <td>11.0</td>\n",
       "      <td>0.0</td>\n",
       "      <td>19.3</td>\n",
       "      <td>25.6</td>\n",
       "      <td>32.5</td>\n",
       "      <td>21.7</td>\n",
       "      <td>0.9</td>\n",
       "      <td>14.4</td>\n",
       "      <td>24.2</td>\n",
       "      <td>28.4</td>\n",
       "      <td>28.6</td>\n",
       "      <td>4.4</td>\n",
       "    </tr>\n",
       "  </tbody>\n",
       "</table>\n",
       "</div>"
      ],
      "text/plain": [
       "             schid  me2015school  me2015district  me2015state  me2015schDNY  \\\n",
       "0  010010010260001          25.6            33.0           33          24.8   \n",
       "1  010010010262002          36.1            33.0           33          10.8   \n",
       "2  010010020260001          30.9            31.5           33           9.7   \n",
       "3  010010020262002          32.0            31.5           33           8.5   \n",
       "4  010010030260001          11.0            22.6           33          39.7   \n",
       "\n",
       "   me2015schPART  me2015schAPP  me2015schMET  me2015schEXC  me2015distDNY  \\\n",
       "0           20.0          29.6          20.0           5.6           15.0   \n",
       "1           22.6          30.4          34.5           1.7           15.0   \n",
       "2           18.8          40.6          28.8           2.1            9.0   \n",
       "3           24.3          35.2          28.4           3.6            9.0   \n",
       "4           24.0          25.3          11.0           0.0           19.3   \n",
       "\n",
       "   me2015distPART  me2015distAPP  me2015distMET  me2015distEXC  \\\n",
       "0            21.9           30.2           30.2            2.9   \n",
       "1            21.9           30.2           30.2            2.9   \n",
       "2            21.9           37.6           28.6            2.9   \n",
       "3            21.9           37.6           28.6            2.9   \n",
       "4            25.6           32.5           21.7            0.9   \n",
       "\n",
       "   me2015stateDNY  me2015statePART  me2015stateAPP  me2015stateMET  \\\n",
       "0            14.4             24.2            28.4            28.6   \n",
       "1            14.4             24.2            28.4            28.6   \n",
       "2            14.4             24.2            28.4            28.6   \n",
       "3            14.4             24.2            28.4            28.6   \n",
       "4            14.4             24.2            28.4            28.6   \n",
       "\n",
       "   me2015stateEXC  \n",
       "0             4.4  \n",
       "1             4.4  \n",
       "2             4.4  \n",
       "3             4.4  \n",
       "4             4.4  "
      ]
     },
     "execution_count": 64,
     "metadata": {},
     "output_type": "execute_result"
    }
   ],
   "source": [
    "me2015 = pd.read_csv('rc15csv/me2015.csv', index_col=None)\n",
    "me2015.head()"
   ]
  },
  {
   "cell_type": "code",
   "execution_count": 65,
   "metadata": {
    "collapsed": false
   },
   "outputs": [
    {
     "data": {
      "text/plain": [
       "(4094, 240)"
      ]
     },
     "execution_count": 65,
     "metadata": {},
     "output_type": "execute_result"
    }
   ],
   "source": [
    "left = result\n",
    "right = me2015\n",
    "sch2015me = pd.merge(left, right, how='left', on='schid', suffixes=('_x', '_y'))\n",
    "sch2015me.shape"
   ]
  },
  {
   "cell_type": "code",
   "execution_count": 66,
   "metadata": {
    "collapsed": true
   },
   "outputs": [],
   "source": [
    "#'ELEMENTARY','MIDDLE SCHL','CHARTER SCH','CHARTER NET','CHARTER NET SCH','HIGH SCHOOL','CHARTER HIGH SCH','CHARTER NET HIGH SCH','CHARTER HIGH SCH+','CHARTER NET HIGH SCH+','HIGH SCHOOL+','OTHER','PRESCHOOL','EARLY CHILDHOOD'\n",
    "\n",
    "#Selects only rows for elmentary schools, with charter sch included in elementary\n",
    "elemval = ['HIGH SCHOOL','CHARTER HIGH SCH','CHARTER NET','CHARTER NET+','CHARTER NET HIGH SCH','CHARTER HIGH SCH+','CHARTER NET HIGH SCH+','HIGH SCHOOL+','OTHER','PRESCHOOL','EARLY CHILDHOOD']\n",
    "me2015elem = sch2015me[~sch2015me.schooltype.isin(elemval)]\n",
    "\n",
    "#renames column for elementary school scores\n",
    "me2015elem = me2015elem.rename(columns = {'me2015school':'me2015schoolELEM'})\n",
    "me2015elem = me2015elem[['schid','me2015schoolELEM']]"
   ]
  },
  {
   "cell_type": "code",
   "execution_count": 67,
   "metadata": {
    "collapsed": true
   },
   "outputs": [],
   "source": [
    "#Selects only rows for high schools\n",
    "hsval = ['ELEMENTARY','MIDDLE SCHL','CHARTER SCH','CHARTER SCH+','CHARTER NET','CHARTER NET+','CHARTER NET SCH','OTHER','PRESCHOOL','EARLY CHILDHOOD']\n",
    "me2015hs = sch2015me[~sch2015me.schooltype.isin(hsval)]\n",
    "\n",
    "#renames column for elementary school scores\n",
    "me2015hs = me2015hs.rename(columns = {'me2015school':'me2015schoolHS'})\n",
    "me2015hs = me2015hs[['schid','me2015schoolHS']]"
   ]
  },
  {
   "cell_type": "code",
   "execution_count": 68,
   "metadata": {
    "collapsed": false
   },
   "outputs": [
    {
     "data": {
      "text/plain": [
       "(4094, 241)"
      ]
     },
     "execution_count": 68,
     "metadata": {},
     "output_type": "execute_result"
    }
   ],
   "source": [
    "left = sch2015me\n",
    "right = me2015elem\n",
    "resultElem = pd.merge(left, right, how='left', on='schid', suffixes=('_x', '_y'))\n",
    "resultElem.shape"
   ]
  },
  {
   "cell_type": "code",
   "execution_count": 69,
   "metadata": {
    "collapsed": false
   },
   "outputs": [
    {
     "data": {
      "text/plain": [
       "(4094, 242)"
      ]
     },
     "execution_count": 69,
     "metadata": {},
     "output_type": "execute_result"
    }
   ],
   "source": [
    "left = resultElem\n",
    "right = me2015hs\n",
    "resultall = pd.merge(left, right, how='left', on='schid', suffixes=('_x', '_y'))\n",
    "resultall.shape"
   ]
  },
  {
   "cell_type": "code",
   "execution_count": 70,
   "metadata": {
    "collapsed": false
   },
   "outputs": [
    {
     "data": {
      "text/html": [
       "<div style=\"max-height:1000px;max-width:1500px;overflow:auto;\">\n",
       "<table border=\"1\" class=\"dataframe\">\n",
       "  <thead>\n",
       "    <tr style=\"text-align: right;\">\n",
       "      <th></th>\n",
       "      <th>schid14</th>\n",
       "      <th>schid15</th>\n",
       "      <th>schid</th>\n",
       "      <th>value</th>\n",
       "      <th>facilityname</th>\n",
       "      <th>selective</th>\n",
       "      <th>districtname</th>\n",
       "      <th>distid</th>\n",
       "      <th>distidalt</th>\n",
       "      <th>county</th>\n",
       "      <th>...</th>\n",
       "      <th>me2015distAPP</th>\n",
       "      <th>me2015distMET</th>\n",
       "      <th>me2015distEXC</th>\n",
       "      <th>me2015stateDNY</th>\n",
       "      <th>me2015statePART</th>\n",
       "      <th>me2015stateAPP</th>\n",
       "      <th>me2015stateMET</th>\n",
       "      <th>me2015stateEXC</th>\n",
       "      <th>me2015schoolELEM</th>\n",
       "      <th>me2015schoolHS</th>\n",
       "    </tr>\n",
       "  </thead>\n",
       "  <tbody>\n",
       "    <tr>\n",
       "      <th>0</th>\n",
       "      <td>010010010260001</td>\n",
       "      <td>010010010260001</td>\n",
       "      <td>010010010260001</td>\n",
       "      <td>Seymour High School, Payson</td>\n",
       "      <td>Seymour High School</td>\n",
       "      <td>--</td>\n",
       "      <td>Payson CUSD 1</td>\n",
       "      <td>010010010260000</td>\n",
       "      <td>010010010260000</td>\n",
       "      <td>Adams</td>\n",
       "      <td>...</td>\n",
       "      <td>30.2</td>\n",
       "      <td>30.2</td>\n",
       "      <td>2.9</td>\n",
       "      <td>14.4</td>\n",
       "      <td>24.2</td>\n",
       "      <td>28.4</td>\n",
       "      <td>28.6</td>\n",
       "      <td>4.4</td>\n",
       "      <td></td>\n",
       "      <td>25.6</td>\n",
       "    </tr>\n",
       "    <tr>\n",
       "      <th>1</th>\n",
       "      <td>010010010262002</td>\n",
       "      <td>010010010262002</td>\n",
       "      <td>010010010262002</td>\n",
       "      <td>Seymour Elementary School, Payson</td>\n",
       "      <td>Seymour Elementary School</td>\n",
       "      <td>--</td>\n",
       "      <td>Payson CUSD 1</td>\n",
       "      <td>010010010260000</td>\n",
       "      <td>010010010260000</td>\n",
       "      <td>Adams</td>\n",
       "      <td>...</td>\n",
       "      <td>30.2</td>\n",
       "      <td>30.2</td>\n",
       "      <td>2.9</td>\n",
       "      <td>14.4</td>\n",
       "      <td>24.2</td>\n",
       "      <td>28.4</td>\n",
       "      <td>28.6</td>\n",
       "      <td>4.4</td>\n",
       "      <td>36.1</td>\n",
       "      <td></td>\n",
       "    </tr>\n",
       "    <tr>\n",
       "      <th>2</th>\n",
       "      <td>010010020260001</td>\n",
       "      <td>010010020260001</td>\n",
       "      <td>010010020260001</td>\n",
       "      <td>Liberty High School, Liberty</td>\n",
       "      <td>Liberty High School</td>\n",
       "      <td>--</td>\n",
       "      <td>Liberty CUSD 2</td>\n",
       "      <td>010010020260000</td>\n",
       "      <td>010010020260000</td>\n",
       "      <td>Adams</td>\n",
       "      <td>...</td>\n",
       "      <td>37.6</td>\n",
       "      <td>28.6</td>\n",
       "      <td>2.9</td>\n",
       "      <td>14.4</td>\n",
       "      <td>24.2</td>\n",
       "      <td>28.4</td>\n",
       "      <td>28.6</td>\n",
       "      <td>4.4</td>\n",
       "      <td></td>\n",
       "      <td>30.9</td>\n",
       "    </tr>\n",
       "  </tbody>\n",
       "</table>\n",
       "<p>3 rows × 242 columns</p>\n",
       "</div>"
      ],
      "text/plain": [
       "           schid14          schid15            schid  \\\n",
       "0  010010010260001  010010010260001  010010010260001   \n",
       "1  010010010262002  010010010262002  010010010262002   \n",
       "2  010010020260001  010010020260001  010010020260001   \n",
       "\n",
       "                               value               facilityname selective  \\\n",
       "0        Seymour High School, Payson        Seymour High School        --   \n",
       "1  Seymour Elementary School, Payson  Seymour Elementary School        --   \n",
       "2       Liberty High School, Liberty        Liberty High School        --   \n",
       "\n",
       "     districtname           distid        distidalt county       ...        \\\n",
       "0   Payson CUSD 1  010010010260000  010010010260000  Adams       ...         \n",
       "1   Payson CUSD 1  010010010260000  010010010260000  Adams       ...         \n",
       "2  Liberty CUSD 2  010010020260000  010010020260000  Adams       ...         \n",
       "\n",
       "  me2015distAPP me2015distMET me2015distEXC me2015stateDNY me2015statePART  \\\n",
       "0          30.2          30.2           2.9           14.4            24.2   \n",
       "1          30.2          30.2           2.9           14.4            24.2   \n",
       "2          37.6          28.6           2.9           14.4            24.2   \n",
       "\n",
       "  me2015stateAPP me2015stateMET me2015stateEXC me2015schoolELEM  \\\n",
       "0           28.4           28.6            4.4                    \n",
       "1           28.4           28.6            4.4             36.1   \n",
       "2           28.4           28.6            4.4                    \n",
       "\n",
       "   me2015schoolHS  \n",
       "0            25.6  \n",
       "1                  \n",
       "2            30.9  \n",
       "\n",
       "[3 rows x 242 columns]"
      ]
     },
     "execution_count": 70,
     "metadata": {},
     "output_type": "execute_result"
    }
   ],
   "source": [
    "resultall = resultall.applymap(lambda x: \"\" if isinstance(x, str) and x.isspace() else x)\n",
    "resultall = resultall.fillna('')\n",
    "resultall.head(3)"
   ]
  },
  {
   "cell_type": "code",
   "execution_count": 71,
   "metadata": {
    "collapsed": false
   },
   "outputs": [
    {
     "data": {
      "text/plain": [
       "(4094, 242)"
      ]
     },
     "execution_count": 71,
     "metadata": {},
     "output_type": "execute_result"
    }
   ],
   "source": [
    "resultall.shape"
   ]
  },
  {
   "cell_type": "code",
   "execution_count": 72,
   "metadata": {
    "collapsed": true
   },
   "outputs": [],
   "source": [
    "resultall.to_csv(\"rc15csv/pai2015before.csv\", index=False)"
   ]
  },
  {
   "cell_type": "code",
   "execution_count": null,
   "metadata": {
    "collapsed": true
   },
   "outputs": [],
   "source": []
  },
  {
   "cell_type": "code",
   "execution_count": null,
   "metadata": {
    "collapsed": true
   },
   "outputs": [],
   "source": []
  }
 ],
 "metadata": {
  "kernelspec": {
   "display_name": "Python 3",
   "language": "python",
   "name": "python3"
  },
  "language_info": {
   "codemirror_mode": {
    "name": "ipython",
    "version": 3
   },
   "file_extension": ".py",
   "mimetype": "text/x-python",
   "name": "python",
   "nbconvert_exporter": "python",
   "pygments_lexer": "ipython3",
   "version": "3.4.3"
  }
 },
 "nbformat": 4,
 "nbformat_minor": 0
}
